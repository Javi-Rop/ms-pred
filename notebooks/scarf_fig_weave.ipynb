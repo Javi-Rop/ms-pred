{
 "cells": [
  {
   "cell_type": "code",
   "execution_count": 1,
   "metadata": {},
   "outputs": [
    {
     "name": "stderr",
     "output_type": "stream",
     "text": [
      "/home/samlg/.conda/envs/ms-gen/lib/python3.8/site-packages/tqdm/auto.py:22: TqdmWarning: IProgress not found. Please update jupyter and ipywidgets. See https://ipywidgets.readthedocs.io/en/stable/user_install.html\n",
      "  from .autonotebook import tqdm as notebook_tqdm\n"
     ]
    }
   ],
   "source": [
    "from pathlib import Path\n",
    "import pandas as pd\n",
    "import numpy as np\n",
    "import yaml\n",
    "from ms_pred.common.plot_utils import *\n",
    "set_style()"
   ]
  },
  {
   "cell_type": "code",
   "execution_count": 2,
   "metadata": {},
   "outputs": [],
   "source": [
    "dataset_name = \"nist20\"\n",
    "dataset_name = \"canopus_train_public\"\n",
    "data_folder = Path(f\"../data/spec_datasets/{dataset_name}/\")\n",
    "labels = data_folder / \"labels.tsv\""
   ]
  },
  {
   "cell_type": "code",
   "execution_count": 3,
   "metadata": {},
   "outputs": [],
   "source": [
    "\n",
    "results_files = [\n",
    "    f\"../results/cfm_id_{dataset_name}/split_1/preds/pred_eval.yaml\",\n",
    "    f\"../results/ffn_baseline_{dataset_name}/split_1/preds/pred_eval.yaml\",\n",
    "    f\"../results/gnn_baseline_{dataset_name}/split_1/preds/pred_eval.yaml\",\n",
    "    f\"../results/scarf_inten_{dataset_name}/split_1/preds/pred_eval.yaml\",\n",
    "]\n",
    "\n",
    "\n",
    "names = [\n",
    "    \"CFM-ID\",\n",
    "    \"NEIMS (FFN)\",\n",
    "    \"NEIMS (GNN)\",\n",
    "    \"SCARF\"\n",
    "]\n",
    "\n",
    "yaml_files = {i: yaml.safe_load(open(j, \"r\")) for i, j in zip(names, results_files)}\n"
   ]
  },
  {
   "cell_type": "code",
   "execution_count": 4,
   "metadata": {},
   "outputs": [],
   "source": [
    "name_to_time = {\n",
    "    \"CFM-ID\": \"../results/cfm_id_nist20_timer/time_out.json\", \n",
    "    \"NEIMS (FFN)\": \"../results/ffn_baseline_nist20/split_1/time_out.json\",\n",
    "    \"NEIMS (GNN)\": \"../results/gnn_baseline_nist20/split_1/time_out.json\",\n",
    "    \"SCARF\": \"../results/scarf_inten_nist20/split_1/time_out.json\"\n",
    "}\n",
    "\n",
    "name_to_seconds = {i: yaml.safe_load(open(j, \"r\"))[\"time (s)\"] for i, j in name_to_time.items()}"
   ]
  },
  {
   "cell_type": "code",
   "execution_count": 5,
   "metadata": {},
   "outputs": [],
   "source": [
    "f1 = list(yaml_files.values())[0]\n",
    "f1.keys()\n",
    "out_df = []\n",
    "for k, v in yaml_files.items():\n",
    "    new_entry = {\n",
    "        \"Method\": k, \n",
    "        \"Cosine sim.\": v['avg_cos_sim'],\n",
    "        \"Coverage\": v[\"avg_coverage\"],\n",
    "        \"Valid\": v['avg_frac_valid'],\n",
    "        \"Time (s) / 100\": name_to_seconds[k]\n",
    "    }\n",
    "    out_df.append(new_entry)\n",
    "out_df = pd.DataFrame(out_df)"
   ]
  },
  {
   "cell_type": "code",
   "execution_count": 12,
   "metadata": {},
   "outputs": [],
   "source": [
    "out_df = out_df.set_index(\"Method\").round(3)\n",
    "out_df.index.name = None\n"
   ]
  },
  {
   "cell_type": "code",
   "execution_count": 13,
   "metadata": {},
   "outputs": [
    {
     "name": "stdout",
     "output_type": "stream",
     "text": [
      "\\begin{table}\n",
      "\\centering\n",
      "\\caption{Spectra prediction accuracy}\n",
      "\\label{tab:spec_acc}\n",
      "\\begin{tabular}{lrrrr}\n",
      "\\toprule\n",
      "{} &  Cosine sim. &  Coverage &  Valid &  Time (s) / 100 \\\\\n",
      "\\midrule\n",
      "CFM-ID      &        0.368 &     0.232 &  1.000 &        1114.652 \\\\\n",
      "NEIMS (FFN) &        0.494 &     0.528 &  0.948 &           3.439 \\\\\n",
      "NEIMS (GNN) &        0.520 &     0.552 &  0.942 &           4.328 \\\\\n",
      "SCARF       &        0.534 &     0.553 &  1.000 &          21.458 \\\\\n",
      "\\bottomrule\n",
      "\\end{tabular}\n",
      "\\end{table}\n",
      "\n"
     ]
    },
    {
     "name": "stderr",
     "output_type": "stream",
     "text": [
      "/tmp/ipykernel_1953358/2439569926.py:1: FutureWarning: In future versions `DataFrame.to_latex` is expected to utilise the base implementation of `Styler.to_latex` for formatting and rendering. The arguments signature may therefore change. It is recommended instead to use `DataFrame.style.to_latex` which also contains additional functionality.\n",
      "  latex = out_df.to_latex(caption=\"Spectra prediction accuracy\", label=\"tab:spec_acc\")\n"
     ]
    }
   ],
   "source": [
    "latex = out_df.to_latex(caption=\"Spectra prediction accuracy\", label=\"tab:spec_acc\")\n",
    "print(latex)"
   ]
  },
  {
   "attachments": {},
   "cell_type": "markdown",
   "metadata": {},
   "source": [
    "NIST results:\n",
    "\n",
    "```\n",
    "\\begin{table}\n",
    "\\centering\n",
    "\\caption{Spectra prediction accuracy}\n",
    "\\label{tab:spec_acc}\n",
    "\\begin{tabular}{lrrrr}\n",
    "\\toprule\n",
    "{} &  Cosine sim. &  Coverage &  Valid &  Time (s) / 100 \\\\\n",
    "\\midrule\n",
    "CFM-ID      &        0.371 &     0.273 &  1.000 &        1114.652 \\\\\n",
    "NEIMS (FFN) &        0.614 &     0.739 &  0.951 &           3.439 \\\\\n",
    "NEIMS (GNN) &        0.689 &     0.777 &  0.949 &           4.328 \\\\\n",
    "SCARF       &        0.713 &     0.797 &  1.000 &          21.458 \\\\\n",
    "\\bottomrule\n",
    "\\end{tabular}\n",
    "\\end{table}\n",
    "```\n",
    "\n",
    "Canopus results:\n",
    "\n",
    "```\n",
    "\\begin{table}\n",
    "\\centering\n",
    "\\caption{Spectra prediction accuracy}\n",
    "\\label{tab:spec_acc}\n",
    "\\begin{tabular}{lrrrr}\n",
    "\\toprule\n",
    "{} &  Cosine sim. &  Coverage &  Valid &  Time (s) / 100 \\\\\n",
    "\\midrule\n",
    "CFM-ID      &        0.368 &     0.232 &  1.000 &        1114.652 \\\\\n",
    "NEIMS (FFN) &        0.494 &     0.528 &  0.948 &           3.439 \\\\\n",
    "NEIMS (GNN) &        0.520 &     0.552 &  0.942 &           4.328 \\\\\n",
    "SCARF       &        0.534 &     0.553 &  1.000 &          21.458 \\\\\n",
    "\\bottomrule\n",
    "\\end{tabular}\n",
    "\\end{table}\n",
    "\n",
    "```"
   ]
  },
  {
   "cell_type": "code",
   "execution_count": null,
   "metadata": {},
   "outputs": [],
   "source": []
  }
 ],
 "metadata": {
  "kernelspec": {
   "display_name": "ms-gen",
   "language": "python",
   "name": "python3"
  },
  "language_info": {
   "codemirror_mode": {
    "name": "ipython",
    "version": 3
   },
   "file_extension": ".py",
   "mimetype": "text/x-python",
   "name": "python",
   "nbconvert_exporter": "python",
   "pygments_lexer": "ipython3",
   "version": "3.8.13"
  },
  "orig_nbformat": 4,
  "vscode": {
   "interpreter": {
    "hash": "0104df62c80ee1845876b5ec5b2a8b2e89ea0f28159e1f86b83bf27a253591c7"
   }
  }
 },
 "nbformat": 4,
 "nbformat_minor": 2
}
